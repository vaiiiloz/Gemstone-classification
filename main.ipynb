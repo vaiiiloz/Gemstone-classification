{
 "cells": [
  {
   "cell_type": "code",
   "execution_count": 1,
   "metadata": {},
   "outputs": [],
   "source": [
    "import torch\n",
    "import torch.nn as nn\n",
    "from torch.utils.data import DataLoader, RandomSampler, SequentialSampler\n",
    "import torch.nn.functional as F\n",
    "from models.CoAtNet.CoAtNet import CoAtNet as Model\n",
    "import os\n",
    "import numpy as np\n",
    "import pandas\n",
    "from Frame.Framework import Framework\n",
    "from Frame.ModelParalellBase import ModelParalellBase\n",
    "from Data_function.Dataset_folder import Dataset\n",
    "from Data_function.Transfomer import  Transform\n",
    "import configparser\n",
    "from torch.utils.tensorboard import SummaryWriter"
   ]
  },
  {
   "cell_type": "code",
   "execution_count": 2,
   "metadata": {},
   "outputs": [],
   "source": [
    "# x=torch.randn(1,3,224,224)\n",
    "# coatnet=Model(num_classes=2)\n",
    "# y=coatnet(x)\n",
    "# print(y.shape)\n"
   ]
  },
  {
   "cell_type": "code",
   "execution_count": 3,
   "metadata": {},
   "outputs": [],
   "source": [
    "#get data from config file\n",
    "config = configparser.ConfigParser()\n",
    "config.read('./config/ConfigFile.properties')\n",
    "width = int(config[\"config\"]['width'])\n",
    "height = int(config['config']['height'])\n",
    "resize = (width, height)\n",
    "mean = [float(x) for x in config['config']['mean'].split(', ')]\n",
    "std = [float(x) for x in config['config']['std'].split(', ')]\n",
    "batch = int(config['config']['batch'])\n",
    "num_worker = int(config['config']['num_worker'])\n",
    "lr = float(config['config']['lr'])\n",
    "epochs = int(config['config']['epochs'])"
   ]
  },
  {
   "cell_type": "code",
   "execution_count": 4,
   "metadata": {},
   "outputs": [
    {
     "name": "stdout",
     "output_type": "stream",
     "text": [
      "Create frame work\n"
     ]
    }
   ],
   "source": [
    "#config function\n",
    "framework = Framework()\n",
    "transformers = Transform(resize=resize, mean= mean, std=std)\n",
    "\n",
    "opt_func = torch.optim.SGD"
   ]
  },
  {
   "cell_type": "code",
   "execution_count": 5,
   "metadata": {},
   "outputs": [],
   "source": [
    "#Create dataset\n",
    "train_dataset = Dataset(root_folder='/home/saplap/Desktop/Model/cifar-100/train', transformer=transformers, phase='train')\n",
    "val_dataset = Dataset(root_folder='/home/saplap/Desktop/Model/cifar-100/val', transformer=transformers, phase = 'val')\n",
    "test_dataset = Dataset(root_folder='/home/saplap/Desktop/Model/cifar-100/test', transformer=transformers, phase = 'val')\n",
    "\n",
    "\n",
    "\n",
    "\n"
   ]
  },
  {
   "cell_type": "code",
   "execution_count": 6,
   "metadata": {},
   "outputs": [],
   "source": [
    "train_dl = DataLoader(dataset = train_dataset, batch_size = batch, num_workers=num_worker, shuffle=True)\n",
    "val_dl = DataLoader(dataset = val_dataset, batch_size = batch*2, num_workers=num_worker, shuffle=True)\n",
    "# test_dl = DataLoader(dataset = test_dataset, batch_size = batch*2, num_workers=num_worker, shuffle=True)"
   ]
  },
  {
   "cell_type": "code",
   "execution_count": 7,
   "metadata": {},
   "outputs": [
    {
     "name": "stderr",
     "output_type": "stream",
     "text": [
      "/home/saplap/anaconda3/envs/giangnh/lib/python3.8/site-packages/torch/functional.py:568: UserWarning: torch.meshgrid: in an upcoming release, it will be required to pass the indexing argument. (Triggered internally at  ../aten/src/ATen/native/TensorShape.cpp:2228.)\n",
      "  return _VF.meshgrid(tensors, **kwargs)  # type: ignore[attr-defined]\n"
     ]
    }
   ],
   "source": [
    "#Create model\n",
    "model = Model(num_classes= 100)\n",
    "#Run multiple gpu\n",
    "# model = ModelParalellBase(model)"
   ]
  },
  {
   "cell_type": "code",
   "execution_count": 8,
   "metadata": {},
   "outputs": [],
   "source": [
    "\n",
    "optimizer = torch.optim.SGD(model.parameters(), lr, momentum=0.9)\n",
    "loss_function = nn.CrossEntropyLoss()\n",
    "scheduler = torch.optim.lr_scheduler.StepLR(optimizer, step_size=15, gamma=0.5)\n",
    "# writer = SummaryWriter(\"resnet50\")"
   ]
  },
  {
   "cell_type": "code",
   "execution_count": 9,
   "metadata": {},
   "outputs": [],
   "source": [
    "framework.fit(model, train_dl= train_dl, val_dl = val_dl, lr= lr, epochs=epochs, optimizer= optimizer, scheduler = scheduler, loss_func=loss_function, save_each_model='Each_epoch', save_model='output.pt')"
   ]
  }
 ],
 "metadata": {
  "interpreter": {
   "hash": "bf8bbeef69dd4fdff006906158fccae169d4bfb4a8ffc1f941a1604a0d10554b"
  },
  "kernelspec": {
   "display_name": "Python 3.8.13 ('giangnh')",
   "language": "python",
   "name": "python3"
  },
  "language_info": {
   "codemirror_mode": {
    "name": "ipython",
    "version": 3
   },
   "file_extension": ".py",
   "mimetype": "text/x-python",
   "name": "python",
   "nbconvert_exporter": "python",
   "pygments_lexer": "ipython3",
   "version": "3.8.13"
  },
  "orig_nbformat": 4
 },
 "nbformat": 4,
 "nbformat_minor": 2
}
